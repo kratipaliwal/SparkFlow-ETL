{
 "cells": [
  {
   "cell_type": "code",
   "execution_count": 0,
   "metadata": {
    "application/vnd.databricks.v1+cell": {
     "cellMetadata": {
      "byteLimit": 2048000,
      "rowLimit": 10000
     },
     "inputWidgets": {},
     "nuid": "101affce-d993-4e68-9671-35eead11dcad",
     "showTitle": false,
     "tableResultSettingsMap": {},
     "title": ""
    }
   },
   "outputs": [],
   "source": [
    "#Abstract Class\n",
    "class DataSource:\n",
    "    \n",
    "    def __init__(self,path):\n",
    "        self.path = path\n",
    "\n",
    "    #Abstract Method \n",
    "    def get_data_frame(self):\n",
    "\n",
    "        raise ValueError(\"Not Implemented\")\n",
    "\n",
    "class CSVDataSource(DataSource): \n",
    "\n",
    "    def get_data_frame(self):\n",
    "\n",
    "        return(\n",
    "            spark.\n",
    "            read.\n",
    "            format(\"csv\").\n",
    "            option(\"header\",True).\n",
    "            load(self.path)\n",
    "        )\n",
    "    \n",
    "class ParquetDataSource (DataSource):\n",
    "\n",
    "    def get_data_frame(self):\n",
    "        return(\n",
    "            spark.\n",
    "            read.\n",
    "            format(\"parquet\").\n",
    "            load(self.path)\n",
    "        )\n",
    "        \n",
    "class DeltaDataSource (DataSource):\n",
    "\n",
    "    def get_data_frame(self):\n",
    "        table_name = self.path \n",
    "        return(\n",
    "            spark.\n",
    "            read.\n",
    "            table(table_name)\n",
    "        )\n",
    "def get_data_source(data_type, file_path):\n",
    "\n",
    "    if data_type == \"csv\":\n",
    "        return CSVDataSource(file_path)\n",
    "    elif data_type == \"parquet\":\n",
    "        return ParquetDataSource (file_path)\n",
    "    elif data_type == \"delta\":\n",
    "        return DeltaDataSource (file_path)\n",
    "    else:\n",
    "        raise ValueError (f\"Not implemented for data type format : {data_type} \")\n",
    "    "
   ]
  }
 ],
 "metadata": {
  "application/vnd.databricks.v1+notebook": {
   "computePreferences": null,
   "dashboards": [],
   "environmentMetadata": {
    "base_environment": "",
    "environment_version": "1"
   },
   "inputWidgetPreferences": null,
   "language": "python",
   "notebookMetadata": {
    "pythonIndentUnit": 4
   },
   "notebookName": "reader_factory",
   "widgets": {}
  }
 },
 "nbformat": 4,
 "nbformat_minor": 0
}