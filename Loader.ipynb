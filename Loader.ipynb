{
 "cells": [
  {
   "cell_type": "code",
   "execution_count": 0,
   "metadata": {
    "application/vnd.databricks.v1+cell": {
     "cellMetadata": {
      "byteLimit": 2048000,
      "rowLimit": 10000
     },
     "inputWidgets": {},
     "nuid": "4604f773-d016-4729-8ccc-b8e9b3a7bf08",
     "showTitle": false,
     "tableResultSettingsMap": {},
     "title": ""
    }
   },
   "outputs": [],
   "source": [
    "%run \"./loader_factory\""
   ]
  },
  {
   "cell_type": "code",
   "execution_count": 0,
   "metadata": {
    "application/vnd.databricks.v1+cell": {
     "cellMetadata": {
      "byteLimit": 2048000,
      "rowLimit": 10000
     },
     "inputWidgets": {},
     "nuid": "74321a5c-b8ea-43b7-abcb-c5328a3f7095",
     "showTitle": false,
     "tableResultSettingsMap": {},
     "title": ""
    }
   },
   "outputs": [],
   "source": [
    "class AbstractLoader:\n",
    "\n",
    "    def __init__(self, TransformedDF):\n",
    "        self.TransformedDF = TransformedDF\n",
    "\n",
    "    def sink(self):\n",
    "        pass\n",
    "\n",
    "# class AbstractLoader:\n",
    "#     def __init__(self, df):\n",
    "#         self.df = df\n",
    "#         self.path = \"dbfs:/FileStore/tables/Output/OnlyIphoneAndAirpods\"\n",
    "#         self.method = \"overwrite\"\n",
    "#         self.params = {}\n",
    "\n",
    "#     def sink(self):\n",
    "#         print(\">> Calling LoaderFactory\")\n",
    "#         LoaderFactory(self.df, self.path, self.method, self.params).sink()\n",
    "\n",
    "class AirpodsAfterIphoneLoader (AbstractLoader) :\n",
    "\n",
    "    def sink(self):\n",
    "        get_sink_source(\n",
    "            sink_type = \"dbfs\",\n",
    "            df = self.TransformedDF,\n",
    "            path = \"dbfs:/FileStore/tables/Output/AirpodsAfterIphone\",\n",
    "            method = \"overwrite\"\n",
    "        ).load_data_frame()\n",
    "        \n",
    "class OnlyIphoneAndAirpodsLoader(AbstractLoader) :\n",
    "\n",
    "    def sink(self):\n",
    "        params = {\n",
    "            \"partitionByColumns\" : [\"location\"]\n",
    "        }\n",
    "        get_sink_source(\n",
    "            sink_type = \"dbfs_with_partition\",\n",
    "            df = self.TransformedDF,\n",
    "            path = \"dbfs:/FileStore/tables/Output/OnlyIphoneAndAirpods\",\n",
    "            method = \"overwrite\",\n",
    "            params = params\n",
    "        ).load_data_frame()\n",
    "\n",
    "        get_sink_source(\n",
    "            sink_type = \"delta\",\n",
    "            df = self.TransformedDF,\n",
    "            path = \"default.OnlyIphoneAndAirpods\",\n",
    "            method = \"overwrite\",\n",
    "        ).load_data_frame()"
   ]
  }
 ],
 "metadata": {
  "application/vnd.databricks.v1+notebook": {
   "computePreferences": null,
   "dashboards": [],
   "environmentMetadata": {
    "base_environment": "",
    "environment_version": "1"
   },
   "inputWidgetPreferences": null,
   "language": "python",
   "notebookMetadata": {
    "pythonIndentUnit": 4
   },
   "notebookName": "Loader",
   "widgets": {}
  }
 },
 "nbformat": 4,
 "nbformat_minor": 0
}