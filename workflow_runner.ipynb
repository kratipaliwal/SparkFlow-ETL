{
 "cells": [
  {
   "cell_type": "code",
   "execution_count": 0,
   "metadata": {
    "application/vnd.databricks.v1+cell": {
     "cellMetadata": {
      "byteLimit": 2048000,
      "rowLimit": 10000
     },
     "inputWidgets": {},
     "nuid": "b0d4712a-d34a-4652-9359-0bd6dfdebf91",
     "showTitle": false,
     "tableResultSettingsMap": {},
     "title": ""
    }
   },
   "outputs": [],
   "source": [
    "%run \"./Transform\""
   ]
  },
  {
   "cell_type": "code",
   "execution_count": 0,
   "metadata": {
    "application/vnd.databricks.v1+cell": {
     "cellMetadata": {
      "byteLimit": 2048000,
      "rowLimit": 10000
     },
     "inputWidgets": {},
     "nuid": "718f4cf1-75c6-4cfa-a84b-09f48974016b",
     "showTitle": false,
     "tableResultSettingsMap": {},
     "title": ""
    }
   },
   "outputs": [],
   "source": [
    "%run \"./Extractor\""
   ]
  },
  {
   "cell_type": "code",
   "execution_count": 0,
   "metadata": {
    "application/vnd.databricks.v1+cell": {
     "cellMetadata": {
      "byteLimit": 2048000,
      "rowLimit": 10000
     },
     "inputWidgets": {},
     "nuid": "d19bf907-1a26-4ed5-aeb3-ab96c5295c23",
     "showTitle": false,
     "tableResultSettingsMap": {},
     "title": ""
    }
   },
   "outputs": [],
   "source": [
    "%run \"./Loader\""
   ]
  },
  {
   "cell_type": "code",
   "execution_count": 0,
   "metadata": {
    "application/vnd.databricks.v1+cell": {
     "cellMetadata": {
      "byteLimit": 2048000,
      "rowLimit": 10000
     },
     "inputWidgets": {},
     "nuid": "3dd2489f-56fd-4133-8b31-d1e3b077bf14",
     "showTitle": false,
     "tableResultSettingsMap": {},
     "title": ""
    },
    "jupyter": {
     "outputs_hidden": true
    }
   },
   "outputs": [],
   "source": [
    "# from pyspark.sql import SparkSession\n",
    "\n",
    "# #initiating Spark Session\n",
    "# spark = SparkSession.builder.appName(\"BigDataProject\").getOrCreate()\n",
    "\n",
    "# input_df = spark.read.format(\"csv\").option(\"header\", \"true\").load(\"dbfs:/FileStore/tables/Transaction_Updated.csv\")\n",
    "\n",
    "# input_df.show()\n"
   ]
  },
  {
   "cell_type": "code",
   "execution_count": 0,
   "metadata": {
    "application/vnd.databricks.v1+cell": {
     "cellMetadata": {
      "byteLimit": 2048000,
      "rowLimit": 10000
     },
     "inputWidgets": {},
     "nuid": "f9ff4111-eb7e-4139-925a-d536c33cd7eb",
     "showTitle": false,
     "tableResultSettingsMap": {},
     "title": ""
    }
   },
   "outputs": [],
   "source": [
    "class AirpodsAfterIphoneWorkFlow:\n",
    "    \"\"\"\n",
    "    ETL pipeline to generate the data for all customers who have bought Airpods just after buying iPhone\n",
    "    \"\"\" \n",
    "\n",
    "    def __init__(self):\n",
    "        pass\n",
    "\n",
    "    def runner(self):\n",
    "        \n",
    "        # Step 1 : Extracting required data from different sources. \n",
    "        inputDFs = ExtractorClass().extract()\n",
    "\n",
    "        # Step 2 : Implementing the tranformation logic \n",
    "        \n",
    "        #Customers who bought Airpods after buying iphone\n",
    "        AirpodsAfterIphoneDF = AirpodsAfterIphoneTransformer().transform(inputDFs)\n",
    "\n",
    "        # Step 3 : Load all required data to different sink \n",
    "        AirpodsAfterIphoneLoader(AirpodsAfterIphoneDF).sink()\n"
   ]
  },
  {
   "cell_type": "code",
   "execution_count": 0,
   "metadata": {
    "application/vnd.databricks.v1+cell": {
     "cellMetadata": {
      "byteLimit": 2048000,
      "rowLimit": 10000
     },
     "inputWidgets": {},
     "nuid": "91bbc261-4654-41fd-b369-d328ae79a6c7",
     "showTitle": false,
     "tableResultSettingsMap": {},
     "title": ""
    }
   },
   "outputs": [],
   "source": [
    "class OnlyIphoneAndAirpodWorkFlow:\n",
    "    \"\"\"\n",
    "    ETL pipeline to generate the data for all customers who have bought only iPhone and Airpods \n",
    "    \"\"\" \n",
    "\n",
    "    def __init__(self):\n",
    "        pass\n",
    "\n",
    "    def runner(self):\n",
    "        \n",
    "        # Step 1 : Extracting required data from different sources. \n",
    "        inputDFs = ExtractorClass().extract()\n",
    "\n",
    "        # Step 2 : Implementing the tranformation logic \n",
    "        \n",
    "        #Customers who only bought Iphone and Airpods\n",
    "        OnlyIphoneAndAirpodsDF = OnlyIphoneAndAirpodsTransformer().transform(inputDFs)\n",
    "\n",
    "        # Step 3 : Load all required data to different sink \n",
    "        OnlyIphoneAndAirpodsLoader(OnlyIphoneAndAirpodsDF).sink()\n"
   ]
  },
  {
   "cell_type": "code",
   "execution_count": 0,
   "metadata": {
    "application/vnd.databricks.v1+cell": {
     "cellMetadata": {
      "byteLimit": 2048000,
      "rowLimit": 10000
     },
     "inputWidgets": {},
     "nuid": "9b5f0363-3537-4817-a2f5-968b3dde50d2",
     "showTitle": false,
     "tableResultSettingsMap": {},
     "title": ""
    }
   },
   "outputs": [
    {
     "output_type": "stream",
     "name": "stdout",
     "output_type": "stream",
     "text": [
      "+--------------+-----------+------------+----------------+\n|transaction_id|customer_id|product_name|transaction_date|\n+--------------+-----------+------------+----------------+\n|            11|        105|      iPhone|      2022-02-01|\n|            14|        105|     AirPods|      2022-02-04|\n|            18|        105|     MacBook|      2022-02-08|\n|            12|        106|      iPhone|      2022-02-02|\n|            16|        106|     MacBook|      2022-02-06|\n|            20|        106|     AirPods|      2022-02-10|\n|            13|        107|     AirPods|      2022-02-03|\n|            17|        107|      iPhone|      2022-02-07|\n|            15|        108|      iPhone|      2022-02-05|\n|            19|        108|     AirPods|      2022-02-09|\n+--------------+-----------+------------+----------------+\n\n+-----------+-------------+-------------------+--------+\n|customer_id|customer_name|          join_date|location|\n+-----------+-------------+-------------------+--------+\n|        105|          Eva|2022-01-01 00:00:00|    Ohio|\n|        106|        Frank|2022-02-01 00:00:00|  Nevada|\n|        107|        Grace|2022-03-01 00:00:00|Colorado|\n|        108|        Henry|2022-04-01 00:00:00|    Utah|\n+-----------+-------------+-------------------+--------+\n\ntransactionInputDF in Transform\nOnly Airpods and iPhone\n+-----------+-----------------+\n|customer_id|         products|\n+-----------+-----------------+\n|        107|[AirPods, iPhone]|\n|        108|[AirPods, iPhone]|\n+-----------+-----------------+\n\n+-----------+-------------+-------------------+--------+\n|customer_id|customer_name|          join_date|location|\n+-----------+-------------+-------------------+--------+\n|        105|          Eva|2022-01-01 00:00:00|    Ohio|\n|        106|        Frank|2022-02-01 00:00:00|  Nevada|\n|        107|        Grace|2022-03-01 00:00:00|Colorado|\n|        108|        Henry|2022-04-01 00:00:00|    Utah|\n+-----------+-------------+-------------------+--------+\n\nCustomers who only bought airpords and iphone\n+-----------+-------------+-------------------+--------+-----------------+\n|customer_id|customer_name|          join_date|location|         products|\n+-----------+-------------+-------------------+--------+-----------------+\n|        107|        Grace|2022-03-01 00:00:00|Colorado|[AirPods, iPhone]|\n|        108|        Henry|2022-04-01 00:00:00|    Utah|[AirPods, iPhone]|\n+-----------+-------------+-------------------+--------+-----------------+\n\n"
     ]
    }
   ],
   "source": [
    "#for scheduling/orchestration\n",
    "class WorkflowRunner : \n",
    "    def __init__(self,name): \n",
    "        self.name = name \n",
    "    def runner(self): \n",
    "        if self.name == \"AirpodsAfterIphoneWorkFlow\":\n",
    "            return AirpodsAfterIphoneWorkFlow().runner()\n",
    "        elif self.name == \"OnlyIphoneAndAirpodWorkFlow\":\n",
    "            return OnlyIphoneAndAirpodWorkFlow().runner()\n",
    "        else:\n",
    "            raise ValueError(f\"Not implemented for this : {self.name}\")\n",
    "\n",
    "name = \"OnlyIphoneAndAirpodWorkFlow\"\n",
    "\n",
    "workflowRunner = WorkflowRunner(name).runner()"
   ]
  }
 ],
 "metadata": {
  "application/vnd.databricks.v1+notebook": {
   "computePreferences": null,
   "dashboards": [],
   "environmentMetadata": {
    "base_environment": "",
    "environment_version": "1"
   },
   "inputWidgetPreferences": null,
   "language": "python",
   "notebookMetadata": {
    "pythonIndentUnit": 4
   },
   "notebookName": "apple_analysis",
   "widgets": {}
  }
 },
 "nbformat": 4,
 "nbformat_minor": 0
}