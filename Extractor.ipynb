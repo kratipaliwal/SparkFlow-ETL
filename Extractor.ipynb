{
 "cells": [
  {
   "cell_type": "code",
   "execution_count": 0,
   "metadata": {
    "application/vnd.databricks.v1+cell": {
     "cellMetadata": {
      "byteLimit": 2048000,
      "rowLimit": 10000
     },
     "inputWidgets": {},
     "nuid": "24548c04-1126-4d2e-98be-10dcb5546148",
     "showTitle": false,
     "tableResultSettingsMap": {},
     "title": ""
    }
   },
   "outputs": [],
   "source": [
    "%run \"./reader_factory\""
   ]
  },
  {
   "cell_type": "code",
   "execution_count": 0,
   "metadata": {
    "application/vnd.databricks.v1+cell": {
     "cellMetadata": {
      "byteLimit": 2048000,
      "rowLimit": 10000
     },
     "inputWidgets": {},
     "nuid": "53e4323b-23d8-41d3-8106-0154905e5ad0",
     "showTitle": false,
     "tableResultSettingsMap": {},
     "title": ""
    }
   },
   "outputs": [],
   "source": [
    "class Extractor:\n",
    "\n",
    "    #Abrsract class\n",
    "\n",
    "    def __init__(self):\n",
    "        pass \n",
    "    def extract(self):\n",
    "        pass\n",
    "    \n",
    "class ExtractorClass (Extractor) : \n",
    "\n",
    "    def extract (self): \n",
    "        #Implemented steps for extracting/reading the data. \n",
    "        transactionInputDF = get_data_source(\n",
    "            data_type= \"csv\",\n",
    "            file_path = \"dbfs:/FileStore/tables/Transaction_Updated.csv\"\n",
    "        ).get_data_frame()\n",
    "\n",
    "        transactionInputDF.orderBy(\"customer_id\",\"transaction_date\").show()\n",
    "\n",
    "        customerInputDF = get_data_source(\n",
    "            data_type = \"delta\",\n",
    "            file_path = \"default.customer_delta_table\"\n",
    "        ).get_data_frame()\n",
    "\n",
    "        customerInputDF.show()\n",
    "\n",
    "        inputDFs = {\n",
    "            \"transactionInputDF\" : transactionInputDF,\n",
    "            \"customerInputDF\" : customerInputDF\n",
    "        }\n",
    "\n",
    "        return inputDFs "
   ]
  }
 ],
 "metadata": {
  "application/vnd.databricks.v1+notebook": {
   "computePreferences": null,
   "dashboards": [],
   "environmentMetadata": {
    "base_environment": "",
    "environment_version": "1"
   },
   "inputWidgetPreferences": null,
   "language": "python",
   "notebookMetadata": {
    "pythonIndentUnit": 4
   },
   "notebookName": "Extractor",
   "widgets": {}
  }
 },
 "nbformat": 4,
 "nbformat_minor": 0
}